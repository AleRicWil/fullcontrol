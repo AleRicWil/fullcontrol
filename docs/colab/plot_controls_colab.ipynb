{
    "cells": [
        {
            "attachments": {},
            "cell_type": "markdown",
            "metadata": {},
            "source": [
                "# PlotControls adjust how a ***design*** is transformed into a 'plot' ***result***\n",
                "\n",
                "***designs*** are transformed into a 'plot' according to some default settings which can be overwritten with a PlotControls object with the following attributes (all demonstrated in this notebook):\n",
                "\n",
                "- 'color_type' - options: 'random_blue', 'z_gradient', 'print_sequence', 'print_sequence_fluctuating', 'manual'\n",
                "- line_width - recommended range 0.1 - 10\n",
                "- zoom - recommended range 0.1 - 10\n",
                "- hide_annotations - True/False\n",
                "- hide_travel - True/False\n",
                "- hide_axes - True/False\n",
                "- neat_for_publishing - True/False (square format for consistent png creation)\n",
                "- raw_data - True/False (output data instead of creating a plot)\n",
                "\n",
                "custom plots can be created with the raw data as demonstrated below\n",
                "\n",
                "<*this document is a jupyter notebook - if they're new to you, check out how they work:\n",
                "[link](https://www.google.com/search?q=ipynb+tutorial),\n",
                "[link](https://jupyter.org/try-jupyter/retro/notebooks/?path=notebooks/Intro.ipynb),\n",
                "[link](https://colab.research.google.com/)*>\n",
                "\n",
                "*run all cells in this notebook in order (keep pressing shift+enter)*"
            ]
        },
        {
            "cell_type": "code",
            "execution_count": null,
            "metadata": {},
            "outputs": [],
            "source": [
                "if 'google.colab' in str(get_ipython()):\n  !pip install git+https://github.com/FullControlXYZ/fullcontrol --quiet\nimport fullcontrol as fc\n",
                "\n",
                "# this demo design is used for all plots in this notebook except the one demonstrating manual colors\n",
                "centre_point = fc.Point(x=50, y=50, z=0)\n",
                "steps = fc.helixZ(centre_point, 20, 15, 0, 10, 0.5, 10*64)\n",
                "steps.append(fc.Extruder(on=False))\n",
                "steps.append(fc.PlotAnnotation(label='extruder off'))\n",
                "steps.append(fc.Point(x=50, y=50, z=0))\n",
                "steps.append(fc.Extruder(on=True))\n",
                "steps.append(fc.PlotAnnotation(label='extruder on'))\n",
                "steps.append(fc.Point(z=5))\n",
                "steps.append(fc.PlotAnnotation(label='finish'))\n",
                "steps.append(fc.PlotAnnotation(point=steps[0], label='start'))\n"
            ]
        },
        {
            "attachments": {},
            "cell_type": "markdown",
            "metadata": {},
            "source": [
                "#### default plot style"
            ]
        },
        {
            "cell_type": "code",
            "execution_count": null,
            "metadata": {},
            "outputs": [],
            "source": [
                "fc.transform(steps, 'plot')"
            ]
        },
        {
            "attachments": {},
            "cell_type": "markdown",
            "metadata": {},
            "source": [
                "#### change line width / color and hide axes "
            ]
        },
        {
            "cell_type": "code",
            "execution_count": null,
            "metadata": {},
            "outputs": [],
            "source": [
                "plot_controls = fc.PlotControls(line_width=4, hide_axes=True, color_type='print_sequence')\n",
                "fc.transform(steps, 'plot', plot_controls)"
            ]
        },
        {
            "attachments": {},
            "cell_type": "markdown",
            "metadata": {},
            "source": [
                "#### hide annotations and travel"
            ]
        },
        {
            "cell_type": "code",
            "execution_count": null,
            "metadata": {},
            "outputs": [],
            "source": [
                "plot_controls = fc.PlotControls(hide_annotations=True, hide_travel=True)\n",
                "fc.transform(steps, 'plot', plot_controls)"
            ]
        },
        {
            "attachments": {},
            "cell_type": "markdown",
            "metadata": {},
            "source": [
                "#### 'neat_for_publishing'\n",
                "\n",
                "create a square plot for consistent generation of images for publication\n",
                "\n",
                "hover the mouse over the plot and click the camera button (\"Download plot and png\")\n"
            ]
        },
        {
            "cell_type": "code",
            "execution_count": null,
            "metadata": {},
            "outputs": [],
            "source": [
                "fc.transform(steps, 'plot', fc.PlotControls(neat_for_publishing=True, zoom=0.6))"
            ]
        },
        {
            "attachments": {},
            "cell_type": "markdown",
            "metadata": {},
            "source": [
                "#### manual colors\n",
                "\n",
                "set color_type='manual' and assign [r, g, b] colors to points for manual colors\n",
                "\n",
                "any points without the attribute 'color' defined will inherit the color of the previous point\n",
                "\n",
                "colors automatically transition over the length of a line between points with different colors"
            ]
        },
        {
            "cell_type": "code",
            "execution_count": null,
            "metadata": {},
            "outputs": [],
            "source": [
                "colored_steps = []\n",
                "colored_steps.append(fc.Point(x=0, y=0, z=0, color=[1, 0, 0]))\n",
                "colored_steps.append(fc.Point(x=50, y=5, color=[1, 0.8, 0]))\n",
                "colored_steps.append(fc.Point(x=0, y=10))\n",
                "fc.transform(colored_steps, 'plot', fc.PlotControls(color_type='manual'))"
            ]
        },
        {
            "attachments": {},
            "cell_type": "markdown",
            "metadata": {},
            "source": [
                "#### output and inspect raw data"
            ]
        },
        {
            "cell_type": "code",
            "execution_count": null,
            "metadata": {},
            "outputs": [],
            "source": [
                "plot_controls = fc.PlotControls(raw_data=True)\n",
                "plot_data = fc.transform(steps, 'plot', plot_controls)\n",
                "print('first five values of the first path:')\n",
                "print(f'    x values: {plot_data.paths[0].xvals[0:4]}')\n",
                "print(f'    y values: {plot_data.paths[0].yvals[0:4]}')\n",
                "print(f'    z values: {plot_data.paths[0].zvals[0:4]}')\n",
                "print(f'    color values [r, g, b]: {plot_data.paths[0].colors[0:4]}')\n",
                "print(f'    extruder state: {plot_data.paths[0].extruder.on}')\n",
                "print(f'second path (travel line of two points):\\n    {plot_data.paths[1]}')\n",
                "print(f'final path (vertical line of two points):\\n    {plot_data.paths[2]}')\n",
                "print(f'plot_data.annotations:\\n    {plot_data.annotations}')\n",
                "print(f'plot_data.bounding_box:\\n    {plot_data.bounding_box}')"
            ]
        },
        {
            "attachments": {},
            "cell_type": "markdown",
            "metadata": {},
            "source": [
                "#### create custom plots"
            ]
        },
        {
            "cell_type": "code",
            "execution_count": null,
            "metadata": {},
            "outputs": [],
            "source": [
                "def custom_plot(data):\n",
                "    import plotly.graph_objects as go\n",
                "    fig = go.Figure(layout=go.Layout(template='plotly_dark'))\n",
                "    for i in range(len(data.paths)):\n",
                "        line_color = 'rgb(255,160,0)' if data.paths[i].extruder.on == True else 'rgb(200,0,0)'\n",
                "        fig.add_trace(go.Scatter3d(mode='lines', x=data.paths[i].xvals, y=data.paths[i].yvals,z=data.paths[i].zvals, line=dict(color=line_color)))\n",
                "    fig.show()\n",
                "    \n",
                "plot_controls = fc.PlotControls(raw_data=True)\n",
                "plot_data = fc.transform(steps, 'plot', plot_controls)\n",
                "custom_plot(plot_data)"
            ]
        }
    ],
    "metadata": {
        "kernelspec": {
            "display_name": "fc",
            "language": "python",
            "name": "python3"
        },
        "language_info": {
            "codemirror_mode": {
                "name": "ipython",
                "version": 3
            },
            "file_extension": ".py",
            "mimetype": "text/x-python",
            "name": "python",
            "nbconvert_exporter": "python",
            "pygments_lexer": "ipython3",
            "version": "3.9.12"
        },
        "orig_nbformat": 4,
        "vscode": {
            "interpreter": {
                "hash": "2b13a99eb0d91dd901c683fa32c6210ac0c6779bab056ce7c570b3b366dfe237"
            }
        }
    },
    "nbformat": 4,
    "nbformat_minor": 2
}
