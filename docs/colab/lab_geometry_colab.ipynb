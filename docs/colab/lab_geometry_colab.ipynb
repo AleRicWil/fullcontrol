{
 "cells": [
  {
   "attachments": {},
   "cell_type": "markdown",
   "metadata": {},
   "source": [
    "# lab geometry functions\n",
    "\n",
    "the FullControl lab exists for things that aren't suitable for the main FullControl package yet, potentially due to complexity in terms of their concept, code, hardware requirements, computational requirements, etc.\n",
    "\n",
    "FullControl features/functions/classes in the lab may be more experimental in nature and should be used with caution, with an understanding that they may change in future updates\n",
    "\n",
    "at present, both the lab and the regular FullControl packages are under active development and the code and package structures may change considerably. some aspects currently in FullControl may move to lab and vice versa\n",
    "\n",
    "lab currently has two main aspects:\n",
    "- geometry functions that supplement existing geometry functions in FullControl\n",
    "- a five-axis demo\n",
    "\n",
    "this notebook briefly demonstrates the geometry functions. five-axis capabilities are demonstrated in the [lab 5-axis demo notebook](https://githubtocolab.com/FullControlXYZ/fullcontrol/blob/master/docs/colab/lab_five_axis_demo_colab.ipynb)"
   ]
  },
  {
   "attachments": {},
   "cell_type": "markdown",
   "metadata": {},
   "source": [
    "#### FullControl lab import"
   ]
  },
  {
   "cell_type": "code",
   "execution_count": null,
   "metadata": {},
   "outputs": [],
   "source": [
    "if 'google.colab' in str(get_ipython()):\n  !pip install git+https://github.com/FullControlXYZ/fullcontrol\nimport fullcontrol as fc\n",
    "import lab.fullcontrol as fclab\n",
    "from math import tau"
   ]
  },
  {
   "attachments": {},
   "cell_type": "markdown",
   "metadata": {},
   "source": [
    "#### bezier curves"
   ]
  },
  {
   "cell_type": "code",
   "execution_count": null,
   "metadata": {},
   "outputs": [],
   "source": [
    "bez_points = []\n",
    "bez_points.append(fc.Point(x=10, y=10, z=0))\n",
    "bez_points.append(fc.Point(x=10, y=0, z=0))\n",
    "bez_points.append(fc.Point(x=0, y=10, z=0))\n",
    "bez_points.append(fc.Point(x=10, y=10, z=0))\n",
    "bez_points.append(fc.Point(x=9, y=9, z=2))\n",
    "steps = fclab.bezierXYdiscrete(bez_points, num_points=50)\n",
    "fc.transform(steps, 'plot')"
   ]
  },
  {
   "attachments": {},
   "cell_type": "markdown",
   "metadata": {},
   "source": [
    "#### convex (streamline slicing)\n",
    "\n",
    "the CONVEX (CONtinuously Varied EXtrusion) approach allows continuously varying extrusion width. i.e. streamline-slicing\n",
    "\n",
    "see method images and case study in the associated journal paper [(free download)](https://www.researchgate.net/publication/346098541)\n",
    "\n",
    "it optionally allows speed to be continuously matched to instantaneous extrusion width to maintain constant volumetric flowrate:\n",
    "- set vary_speed parameter to be True and supply values for speed_ref and width_ref parameters\n",
    "- these parameters are used to change speed proportional to how wide the instantaneous segment being printed is compared to width_ref\n",
    "\n",
    "this is an example implementation, it can be used far more broadly"
   ]
  },
  {
   "cell_type": "code",
   "execution_count": null,
   "metadata": {},
   "outputs": [],
   "source": [
    "path1 = fc.circleXY(fc.Point(x=0, y=0, z=0), 10, 0, 64)\n",
    "path2 = fc.circleXY(fc.Point(x=2, y=0, z=0), 6, 0, 64)\n",
    "steps = fclab.convex_pathsXY(path1, path2, 6)\n",
    "fc.transform(steps, 'plot', fc.PlotControls(color_type='print_sequence'))\n",
    "\n",
    "# to vary speed to maintain constant flow rate:\n",
    "steps = fclab.convex_pathsXY(path1, path2, 6, vary_speed = True, speed_ref = 1000, width_ref = 0.6)"
   ]
  },
  {
   "attachments": {},
   "cell_type": "markdown",
   "metadata": {},
   "source": [
    "#### reflect a list of points\n",
    "\n",
    "reflecting a list of points is complicated by the fact that the order in which controls are applied (e.g. to turn extrusion on or off) needs careful consideration - see more details about this in the regular [geometry functions notebook](https://githubtocolab.com/FullControlXYZ/fullcontrol/blob/master/docs/colab/geometry_functions_colab.ipynb)\n",
    "\n",
    "the following command can be used to reflect a list of points if it only contains points"
   ]
  },
  {
   "cell_type": "code",
   "execution_count": null,
   "metadata": {},
   "outputs": [],
   "source": [
    "steps = [fc.Point(x=0, y=0, z=0), fc.Point(x=1, y=1, z=0)]\n",
    "steps += fclab.reflectXYpolar_list(steps, fc.Point(x=2, y=0, z=0), tau/4)\n",
    "for step in steps: print(step)"
   ]
  },
  {
   "attachments": {},
   "cell_type": "markdown",
   "metadata": {},
   "source": [
    "#### find line intersection\n",
    "\n",
    "methods to find the intersection or to check for intersection between lines are demonstrated in the following code cell"
   ]
  },
  {
   "cell_type": "code",
   "execution_count": null,
   "metadata": {},
   "outputs": [],
   "source": [
    "line1 = [fc.Point(x=0, y=0, z=0), fc.Point(x=1, y=1, z=0)]\n",
    "line2 = [fc.Point(x=1, y=0, z=0), fc.Point(x=0, y=1, z=0)]\n",
    "intersection_point = fclab.line_intersection_by_points_XY(line1[0], line1[1], line2[0], line2[1])\n",
    "print(f'\\ntest 1... intersection at Point: {intersection_point}')\n",
    "\n",
    "line_1_point = fc.Point(x=0, y=1, z=0)\n",
    "line_1_angle = 0\n",
    "line_2_point = fc.Point(x=1, y=0, z=0)\n",
    "line_2_angle = tau/4\n",
    "intersection_point = fclab.line_intersection_by_polar_XY(line_1_point, line_1_angle, line_2_point, line_2_angle)\n",
    "print(f'\\ntest 2... intersection at Point: {intersection_point}')\n",
    "\n",
    "line1 = [fc.Point(x=0, y=0, z=0), fc.Point(x=1, y=1, z=0)]\n",
    "line2 = [fc.Point(x=1, y=0, z=0), fc.Point(x=0, y=1, z=0)]\n",
    "intersection_check = fclab.crossing_lines_check_XY(line1[0], line1[1], line2[0], line2[1])\n",
    "print(f'\\ntest 3... intersection between lines (within their length): {intersection_check}')"
   ]
  }
 ],
 "metadata": {
  "kernelspec": {
   "display_name": "fc",
   "language": "python",
   "name": "python3"
  },
  "language_info": {
   "codemirror_mode": {
    "name": "ipython",
    "version": 3
   },
   "file_extension": ".py",
   "mimetype": "text/x-python",
   "name": "python",
   "nbconvert_exporter": "python",
   "pygments_lexer": "ipython3",
   "version": "3.9.12"
  },
  "orig_nbformat": 4
 },
 "nbformat": 4,
 "nbformat_minor": 2
}
