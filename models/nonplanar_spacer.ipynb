{
 "cells": [
  {
   "attachments": {},
   "cell_type": "markdown",
   "metadata": {},
   "source": [
    "## nonplanar spacer"
   ]
  },
  {
   "cell_type": "code",
   "execution_count": null,
   "metadata": {},
   "outputs": [],
   "source": [
    "import fullcontrol as fc\n",
    "from math import cos, tau"
   ]
  },
  {
   "cell_type": "code",
   "execution_count": null,
   "metadata": {},
   "outputs": [],
   "source": [
    "# design parameters\n",
    "\n",
    "# main design parameters\n",
    "D1 = 8 # inner diameter\n",
    "total_thickness = 4  # intended thickness of washer # try 3 or 4\n",
    "waves = 6  # number of fluctuating waves in z direction\n",
    "\n",
    "# advanced parameters\n",
    "D_ratio = 3 # ratio between inner and outer diameters\n",
    "material_thickness = 0.4\n",
    "EW_EH_ratio = 2\n",
    "overlap_percent = 20 # overlap between filaments\n",
    "contraction_factor = 1.2 # this means the XY line separation reduces when the nozzle also moves up in z. try 1 or 1.2\n",
    "quantity = 1"
   ]
  },
  {
   "cell_type": "code",
   "execution_count": null,
   "metadata": {},
   "outputs": [],
   "source": [
    "# create design steps\n",
    "\n",
    "EH = material_thickness\n",
    "EW = EH*EW_EH_ratio\n",
    "D2 = D1*D_ratio \n",
    "overlap = (overlap_percent/100) * EW \n",
    "# increase in Z height of nozzle to get desired total_thickness:\n",
    "height = total_thickness - EH \n",
    "R1, R2 = D1/2, D2/2\n",
    "rings = int((R2-R1)/(EW-overlap))\n",
    "segs_per_ring = (waves*2)*int(128/(waves*2)) # this means the segmented path always has a node at the exact min and max of waves\n",
    "\n",
    "centre = fc.Point(x=0, y=0, z=0)\n",
    "# set start point, and travel-line into centre of part:\n",
    "steps = [fc.move_polar(centre, centre, R2, (0.5+((waves+1)%2)/(2*waves))*tau), fc.Extruder(on=False), centre, fc.Extruder(on=True)]\n",
    "# add spiral purge line (if there is space):\n",
    "purge_spiral_passes = min(int((R1-EW)/EW)-1, 3)\n",
    "if purge_spiral_passes > 0: steps.extend(fc.spiralXY(centre, EW/2, R1-EW, 0, purge_spiral_passes, 200))\n",
    "\n",
    "# print part:\n",
    "for ring in range(rings):\n",
    "  for seg in range(segs_per_ring+1):  # need one extra 'seg' to allow for the first segment having a start point as well as an end point\n",
    "    angle_now = (seg/segs_per_ring)*tau\n",
    "    z_now = height*(ring/(rings-1))*(0.5-0.5*cos(angle_now*waves))\n",
    "    radius_now = R1 + EW/2 + ring*(EW-overlap)-(z_now*contraction_factor)\n",
    "    centre.z = z_now\n",
    "    steps.append(fc.polar_to_point(centre, radius_now, angle_now))\n",
    "    \n",
    "# print multiple copies:\n",
    "if quantity > 1: steps = fc.move(steps, fc.Vector(x=R2*2 + 5), copy=True, copy_quantity=quantity)\n",
    "\n",
    "# offset the whole procedure. z dictates the gap between the nozzle and the bed for the first layer, assuming the model was designed with a first layer z-position of 0\n",
    "model_offset = fc.Vector(x=50, y=50, z=0.8*EH)\n",
    "steps = fc.move(steps, model_offset)"
   ]
  },
  {
   "cell_type": "code",
   "execution_count": null,
   "metadata": {},
   "outputs": [],
   "source": [
    "# add annotations and plot\n",
    "\n",
    "annotations = []\n",
    "annotations.append(fc.PlotAnnotation(point=fc.midpoint(steps[0],steps[2]), label = \"Initial approach set under a wave-crest to avoid defects\"))\n",
    "annotations.append(fc.PlotAnnotation(point=steps[0], label = \"Start\"))\n",
    "annotations.append(fc.PlotAnnotation(point=steps[-1], label = \"End\"))\n",
    "annotations.append(fc.PlotAnnotation(point=fc.move(steps[2], fc.Vector(z=total_thickness*2)), label=\"A pointy nozzle is best\"))\n",
    "if purge_spiral_passes>0: \n",
    "    annotations.append(fc.PlotAnnotation(point=steps[2], label=\"Spiral flow stabiliser\"))\n",
    "if quantity > 1:\n",
    "    annotations.append(fc.PlotAnnotation(point=fc.move(centre, fc.Vector(x=model_offset.x+(R2*2 + 5),\n",
    "                       y=model_offset.y, z=model_offset.z)), label=\"Designed movement between parts and spiral-purge each time\"))\n",
    "    \n",
    "fc.transform(steps + annotations, 'plot', fc.PlotControls(color_type='print_sequence'))"
   ]
  },
  {
   "cell_type": "code",
   "execution_count": null,
   "metadata": {},
   "outputs": [],
   "source": [
    "# generate and save gcode\n",
    "initial_settings = {\n",
    "    \"print_speed\": 500,\n",
    "    \"nozzle_temp\": 210,\n",
    "    \"bed_temp\": 40,\n",
    "    \"fan_percent\": 100,\n",
    "    \"extrusion_width\": EW,\n",
    "    \"extrusion_height\": EH\n",
    "    }\n",
    "gcode_controls = fc.GcodeControls(printer_name='bambulab_x1', initialization_data=initial_settings, save_as = \"nonplanar_spacer\")\n",
    "fc.transform(steps, 'gcode', gcode_controls)"
   ]
  }
 ],
 "metadata": {
  "kernelspec": {
   "display_name": "Python 3 (ipykernel)",
   "language": "python",
   "name": "python3"
  },
  "language_info": {
   "codemirror_mode": {
    "name": "ipython",
    "version": 3
   },
   "file_extension": ".py",
   "mimetype": "text/x-python",
   "name": "python",
   "nbconvert_exporter": "python",
   "pygments_lexer": "ipython3",
   "version": "3.9.12"
  },
  "vscode": {
   "interpreter": {
    "hash": "2b13a99eb0d91dd901c683fa32c6210ac0c6779bab056ce7c570b3b366dfe237"
   }
  }
 },
 "nbformat": 4,
 "nbformat_minor": 4
}
