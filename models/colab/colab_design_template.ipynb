{
  "cells": [
    {
      "cell_type": "markdown",
      "metadata": {
        "colab_type": "text",
        "id": "view-in-github"
      },
      "source": [
        "<a href=\"https://colab.research.google.com/gist/fullcontrol-xyz/85f870c71404b542e18a733d0d6a2fee/fullcontrol-colab-design-template.ipynb\" target=\"_parent\"><img src=\"https://colab.research.google.com/assets/colab-badge.svg\" alt=\"Open In Colab\"/></a>"
      ]
    },
    {
      "cell_type": "markdown",
      "metadata": {
        "id": "ac9_FmrCOwQL"
      },
      "source": [
        "# FullControl design template\n",
        "\n",
        "press ctrl+F9 to run all cells in this notebook, or press shift+enter to run each cell sequentially \n",
        "\n",
        "if you change one of the code cells, make sure you run it and all subsequent cells again (in order)\n",
        "\n",
        "*this document is a jupyter notebook - if they're new to you, check out how they work: [link](https://www.google.com/search?q=ipynb+tutorial), [link](https://jupyter.org/try-jupyter/retro/notebooks/?path=notebooks/Intro.ipynb), [link](https://colab.research.google.com/)*"
      ]
    },
    {
      "cell_type": "markdown",
      "metadata": {
        "id": "XVYUcd_RO3BD"
      },
      "source": [
        "### be patient :)\n",
        "\n",
        "the next code cell may take a while because running it causes several things to happen:\n",
        "- connect to a google colab server -> download the fullcontrol code -> install the fullcontrol code\n",
        "\n",
        "check out [other tutorials](https://github.com/FullControlXYZ/fullcontrol/blob/master/docs/README.md) to understand the python code for the FullControl design"
      ]
    },
    {
      "cell_type": "code",
      "execution_count": null,
      "metadata": {
        "id": "57XXnogSOvDx"
      },
      "outputs": [],
      "source": [
        "!pip install git+https://github.com/FullControlXYZ/fullcontrol --quiet\n",
        "import fullcontrol as fc\n",
        "from google.colab import files"
      ]
    },
    {
      "cell_type": "code",
      "execution_count": null,
      "metadata": {
        "id": "DeWKjlzbPC0u"
      },
      "outputs": [],
      "source": [
        "# design parameters\n",
        "\n",
        "EW = 0.8 # extrusion width\n",
        "EH = 0.3 # extrusion height (and layer height)\n",
        "initial_z = EH*0.6 # initial nozzle position is set to 0.6x the extrusion height to get a bit of 'squish' for good bed adhesion\n",
        "layers = 50\n",
        "nozzle_temp = 210\n",
        "bed_temp = 40\n",
        "printer_name='ender_3' # generic / ultimaker2plus / prusa_i3 / ender_3 / cr_10 / bambulab_x1 / toolchanger_T0"
      ]
    },
    {
      "cell_type": "code",
      "execution_count": null,
      "metadata": {
        "id": "kLPh7aTwQKrF"
      },
      "outputs": [],
      "source": [
        "# generate the design (make sure you've run the above cells before running this cell)\n",
        "\n",
        "steps = []\n",
        "for layer in range(layers):\n",
        "  steps.append(fc.Point(x=50, y=50, z=initial_z+layer*EH))\n",
        "  steps.append(fc.Point(x=100, y=50, z=initial_z+layer*EH))\n",
        "  steps.append(fc.Point(x=100, y=100, z=initial_z+layer*EH))\n",
        "  steps.append(fc.Point(x=50, y=100, z=initial_z+layer*EH))\n",
        "  \n",
        "# instead of the above for-loop code, you can create the exact same design using built-in FullControl functions (uncomment the next two lines):\n",
        "# rectangle_steps = fc.rectangleXY(fc.Point(x=50, y=50, z=initial_z), 50, 50)\n",
        "# steps = fc.move(rectangle_steps, fc.Vector(z=EH), copy=True, copy_quantity=layers)"
      ]
    },
    {
      "cell_type": "code",
      "execution_count": null,
      "metadata": {
        "id": "ZVdfnpt5RSUi"
      },
      "outputs": [],
      "source": [
        "# preview the design\n",
        "\n",
        "fc.transform(steps, 'plot')"
      ]
    },
    {
      "cell_type": "code",
      "execution_count": null,
      "metadata": {
        "colab": {
          "base_uri": "https://localhost:8080/",
          "height": 17
        },
        "id": "tggFoUeJReQR",
        "outputId": "3e9733ce-224b-4aa9-abe7-d54bca6a0a96"
      },
      "outputs": [
        {
          "data": {
            "application/javascript": "\n    async function download(id, filename, size) {\n      if (!google.colab.kernel.accessAllowed) {\n        return;\n      }\n      const div = document.createElement('div');\n      const label = document.createElement('label');\n      label.textContent = `Downloading \"${filename}\": `;\n      div.appendChild(label);\n      const progress = document.createElement('progress');\n      progress.max = size;\n      div.appendChild(progress);\n      document.body.appendChild(div);\n\n      const buffers = [];\n      let downloaded = 0;\n\n      const channel = await google.colab.kernel.comms.open(id);\n      // Send a message to notify the kernel that we're ready.\n      channel.send({})\n\n      for await (const message of channel.messages) {\n        // Send a message to notify the kernel that we're ready.\n        channel.send({})\n        if (message.buffers) {\n          for (const buffer of message.buffers) {\n            buffers.push(buffer);\n            downloaded += buffer.byteLength;\n            progress.value = downloaded;\n          }\n        }\n      }\n      const blob = new Blob(buffers, {type: 'application/binary'});\n      const a = document.createElement('a');\n      a.href = window.URL.createObjectURL(blob);\n      a.download = filename;\n      div.appendChild(a);\n      a.click();\n      div.remove();\n    }\n  ",
            "text/plain": [
              "<IPython.core.display.Javascript object>"
            ]
          },
          "metadata": {},
          "output_type": "display_data"
        },
        {
          "data": {
            "application/javascript": "download(\"download_ab5b9df4-4249-4d63-9e1b-82f925c2b83a\", \"my_design.gcode\", 26565)",
            "text/plain": [
              "<IPython.core.display.Javascript object>"
            ]
          },
          "metadata": {},
          "output_type": "display_data"
        }
      ],
      "source": [
        "# create and download gcode for the design\n",
        "\n",
        "gcode_controls = fc.GcodeControls(\n",
        "    printer_name = printer_name, \n",
        "    initialization_data={\n",
        "    'primer': 'front_lines_then_y', \n",
        "    'print_speed': 1000,\n",
        "    \"nozzle_temp\": nozzle_temp,\n",
        "    \"bed_temp\": bed_temp,\n",
        "    \"extrusion_width\": EW,\n",
        "    \"extrusion_height\": EH})\n",
        "gcode = fc.transform(steps, 'gcode', gcode_controls)\n",
        "open(f'my_design.gcode', 'w').write(gcode)\n",
        "files.download(f'my_design.gcode')"
      ]
    }
  ],
  "metadata": {
    "colab": {
      "include_colab_link": true,
      "provenance": []
    },
    "kernelspec": {
      "display_name": "Python 3",
      "name": "python3"
    },
    "language_info": {
      "name": "python"
    }
  },
  "nbformat": 4,
  "nbformat_minor": 0
}
